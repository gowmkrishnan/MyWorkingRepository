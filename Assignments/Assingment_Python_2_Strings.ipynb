{
 "cells": [
  {
   "cell_type": "code",
   "execution_count": 1,
   "metadata": {},
   "outputs": [
    {
     "name": "stdout",
     "output_type": "stream",
     "text": [
      "d\n",
      "detneirO tcejbO si nohtyP\n",
      "Python is Object Oriente\n",
      "''\n",
      "'on is '\n"
     ]
    }
   ],
   "source": [
    "#1. Guess output of each slice:\n",
    "s = 'Python is Object Oriented'\n",
    "#    0123456789\n",
    "print(s[-1])\n",
    "print(s[::-1])\n",
    "print(s[:-1])\n",
    "print(repr(s[1:1]))\n",
    "print(repr(s[4:10]))"
   ]
  },
  {
   "cell_type": "code",
   "execution_count": 2,
   "metadata": {},
   "outputs": [
    {
     "ename": "IndexError",
     "evalue": "string index out of range",
     "output_type": "error",
     "traceback": [
      "\u001b[1;31m---------------------------------------------------------------------------\u001b[0m",
      "\u001b[1;31mIndexError\u001b[0m                                Traceback (most recent call last)",
      "\u001b[1;32m<ipython-input-2-8cb74a55e2fd>\u001b[0m in \u001b[0;36m<module>\u001b[1;34m\u001b[0m\n\u001b[0;32m      1\u001b[0m \u001b[1;31m#2. What error do you see for following statements:\u001b[0m\u001b[1;33m\u001b[0m\u001b[1;33m\u001b[0m\u001b[1;33m\u001b[0m\u001b[0m\n\u001b[0;32m      2\u001b[0m \u001b[0ms\u001b[0m\u001b[1;33m=\u001b[0m\u001b[1;34m''\u001b[0m\u001b[1;33m\u001b[0m\u001b[1;33m\u001b[0m\u001b[0m\n\u001b[1;32m----> 3\u001b[1;33m \u001b[0mprint\u001b[0m\u001b[1;33m(\u001b[0m\u001b[0ms\u001b[0m\u001b[1;33m[\u001b[0m\u001b[1;36m1\u001b[0m\u001b[1;33m]\u001b[0m\u001b[1;33m)\u001b[0m\u001b[1;33m\u001b[0m\u001b[1;33m\u001b[0m\u001b[0m\n\u001b[0m",
      "\u001b[1;31mIndexError\u001b[0m: string index out of range"
     ]
    }
   ],
   "source": [
    "#2. What error do you see for following statements:\n",
    "s=''\n",
    "print(s[1])"
   ]
  },
  {
   "cell_type": "code",
   "execution_count": 3,
   "metadata": {},
   "outputs": [
    {
     "ename": "SyntaxError",
     "evalue": "invalid character in identifier (<ipython-input-3-9e38d8e34054>, line 2)",
     "output_type": "error",
     "traceback": [
      "\u001b[1;36m  File \u001b[1;32m\"<ipython-input-3-9e38d8e34054>\"\u001b[1;36m, line \u001b[1;32m2\u001b[0m\n\u001b[1;33m    S=‘Gaurav’\u001b[0m\n\u001b[1;37m             ^\u001b[0m\n\u001b[1;31mSyntaxError\u001b[0m\u001b[1;31m:\u001b[0m invalid character in identifier\n"
     ]
    }
   ],
   "source": [
    "#3. Do you get any error for the following code, if not give the output:\n",
    "S=‘Gaurav’\n",
    "print(s[1])"
   ]
  },
  {
   "cell_type": "code",
   "execution_count": 4,
   "metadata": {},
   "outputs": [
    {
     "name": "stdout",
     "output_type": "stream",
     "text": [
      "6\n",
      "abc\n",
      "3\n"
     ]
    }
   ],
   "source": [
    "#4a. Predict the output\n",
    "s='a b cd'\n",
    "print(len(s))\n",
    "print(s[::2])\n",
    "print(len(s[::2]))"
   ]
  },
  {
   "cell_type": "code",
   "execution_count": 5,
   "metadata": {},
   "outputs": [
    {
     "name": "stdout",
     "output_type": "stream",
     "text": [
      "['a#b#c#d#']\n",
      "['a', 'b', 'c', 'd', '']\n",
      "a$b$c$d$\n"
     ]
    }
   ],
   "source": [
    "#4b.\n",
    "s='a#b#c#d#'\n",
    "print(s.split())\n",
    "print(s.split('#'))\n",
    "l=s.split('#')\n",
    "s='$'.join(l)\n",
    "print(s)"
   ]
  },
  {
   "cell_type": "code",
   "execution_count": 6,
   "metadata": {},
   "outputs": [
    {
     "name": "stdout",
     "output_type": "stream",
     "text": [
      "av\n"
     ]
    }
   ],
   "source": [
    "#4c.\n",
    "S='Gaurav'\n",
    "S=S[::-2][::-2]\n",
    "print(S)"
   ]
  },
  {
   "cell_type": "code",
   "execution_count": 7,
   "metadata": {},
   "outputs": [
    {
     "name": "stdout",
     "output_type": "stream",
     "text": [
      "False\n"
     ]
    }
   ],
   "source": [
    "#4d.\n",
    "print(1>2)"
   ]
  },
  {
   "cell_type": "code",
   "execution_count": 8,
   "metadata": {},
   "outputs": [
    {
     "name": "stdout",
     "output_type": "stream",
     "text": [
      "0,1,2\n"
     ]
    }
   ],
   "source": [
    "#4e.\n",
    "print(4%2,5%2,2%5, sep=',')"
   ]
  },
  {
   "cell_type": "code",
   "execution_count": 9,
   "metadata": {},
   "outputs": [
    {
     "name": "stdout",
     "output_type": "stream",
     "text": [
      "abcba\n",
      "0,0,0,"
     ]
    }
   ],
   "source": [
    "#4f.\n",
    "s='abcba'\n",
    "s.upper()\n",
    "print(s)\n",
    "print(s.count('A'),end=',')\n",
    "print(s.count('A',2,4),end=',')\n",
    "print(s.count('a',2,4),end=',')"
   ]
  },
  {
   "cell_type": "code",
   "execution_count": 10,
   "metadata": {},
   "outputs": [
    {
     "name": "stdout",
     "output_type": "stream",
     "text": [
      "Enter the string: This is a string \n",
      "The string with spaces is: ' This is a string '\n",
      "The string without spaces is:  'Thisisastring'\n"
     ]
    }
   ],
   "source": [
    "#5. WAP to input a string and remove all spaces from it\n",
    "a = input(\"Enter the string:\")\n",
    "print(\"The string with spaces is:\", repr(a)) #printing with spaces\n",
    "a=a.strip() # removing the leading and trailing spaces from the string\n",
    "#logic for removing spaces in middle\n",
    "count = a.count(' ')\n",
    "while count > 0:\n",
    "    space_pos = a.find(' ') #checking the first position of count\n",
    "    data_bef_space = a[:space_pos] #slicing data before space\n",
    "    data_aft_space = a[space_pos + 1:] #slicing data after space\n",
    "    a = data_bef_space + data_aft_space #joining both data\n",
    "    count = a.count(' ') #checking count again for space and updating count\n",
    "print(\"The string without spaces is: \",repr(a))"
   ]
  },
  {
   "cell_type": "markdown",
   "metadata": {},
   "source": [
    "#### 6. What does this symbol denote\n",
    "##### [ ] - Operator for indexing and slicing"
   ]
  },
  {
   "cell_type": "code",
   "execution_count": 11,
   "metadata": {},
   "outputs": [
    {
     "name": "stdout",
     "output_type": "stream",
     "text": [
      "['__add__', '__class__', '__contains__', '__delattr__', '__dir__', '__doc__', '__eq__', '__format__', '__ge__', '__getattribute__', '__getitem__', '__getnewargs__', '__gt__', '__hash__', '__init__', '__init_subclass__', '__iter__', '__le__', '__len__', '__lt__', '__mod__', '__mul__', '__ne__', '__new__', '__reduce__', '__reduce_ex__', '__repr__', '__rmod__', '__rmul__', '__setattr__', '__sizeof__', '__str__', '__subclasshook__', 'capitalize', 'casefold', 'center', 'count', 'encode', 'endswith', 'expandtabs', 'find', 'format', 'format_map', 'index', 'isalnum', 'isalpha', 'isascii', 'isdecimal', 'isdigit', 'isidentifier', 'islower', 'isnumeric', 'isprintable', 'isspace', 'istitle', 'isupper', 'join', 'ljust', 'lower', 'lstrip', 'maketrans', 'partition', 'replace', 'rfind', 'rindex', 'rjust', 'rpartition', 'rsplit', 'rstrip', 'split', 'splitlines', 'startswith', 'strip', 'swapcase', 'title', 'translate', 'upper', 'zfill']\n"
     ]
    }
   ],
   "source": [
    "#7. WAP to print all methods(functions/operations) available in a string\n",
    "print(dir(str))"
   ]
  },
  {
   "cell_type": "code",
   "execution_count": 13,
   "metadata": {},
   "outputs": [
    {
     "name": "stdout",
     "output_type": "stream",
     "text": [
      "True\n"
     ]
    }
   ],
   "source": [
    "#8. Write statement to check if rstrip method is available in the str class.\n",
    "a = dir(str)\n",
    "print('rstrip' in a)"
   ]
  },
  {
   "cell_type": "code",
   "execution_count": 14,
   "metadata": {},
   "outputs": [
    {
     "name": "stdout",
     "output_type": "stream",
     "text": [
      " \n",
      "        *****\n",
      "          *\n",
      "          *\n",
      "          *\n",
      "          *   \n",
      "\n",
      "       *     *\n",
      "       * * * *\n",
      "       *  *  *\n",
      "       *     *\n",
      "\n",
      "       _______\n",
      "       |      |\n",
      "       O      |\n",
      "      /|\\     |\n",
      "      / \\     |\n",
      "      ________|\n"
     ]
    }
   ],
   "source": [
    "#9. WAP to store the following patterns in a string variable and then print them:\n",
    "a = \"\"\" \n",
    "        *****\n",
    "          *\n",
    "          *\n",
    "          *\n",
    "          *   \"\"\"\n",
    "b = \"\"\"\n",
    "       *     *\n",
    "       * * * *\n",
    "       *  *  *\n",
    "       *     *\"\"\"\n",
    "c =\"\"\"\n",
    "       _______\n",
    "       |      |\n",
    "       O      |\n",
    "      /|\\     |\n",
    "      / \\     |\n",
    "      ________|\"\"\"\n",
    "print(a)\n",
    "print(b)\n",
    "print(c)"
   ]
  },
  {
   "cell_type": "code",
   "execution_count": 15,
   "metadata": {},
   "outputs": [
    {
     "name": "stdout",
     "output_type": "stream",
     "text": [
      "Enter the string:String with Sapces\n",
      "The string with spaces is:  'String with Sapces'\n",
      "The replaced string is: String\n",
      "with\n",
      "Sapces\n"
     ]
    }
   ],
   "source": [
    "#10. WAP to input a string and replace all space with new lines (\\n) and print again\n",
    "a = input(\"Enter the string:\")\n",
    "print(\"The string with spaces is: \",repr(a))\n",
    "a = a.replace(' ','\\n')\n",
    "print(\"The replaced string is:\",a)"
   ]
  },
  {
   "cell_type": "code",
   "execution_count": 64,
   "metadata": {},
   "outputs": [
    {
     "name": "stdout",
     "output_type": "stream",
     "text": [
      "Enter the first and last name with space: Gowtham Muthukrishnan\n",
      "The first name is GOWTHAM and its length is 7\n",
      "The last name is MUTHUKRISHNAN and its length is 13\n"
     ]
    }
   ],
   "source": [
    "#11. WAP to input complete name(first and last name separated by space) and print first and last name \n",
    "#separately along with their length in upper case.\n",
    "c_name = input(\"Enter the first and last name with space: \")\n",
    "space_pos = c_name.find(' ')\n",
    "first_name = c_name[:space_pos].upper()\n",
    "last_name = c_name[space_pos+1:].upper()\n",
    "print(\"The first name is {} and its length is {}\".format(first_name,len(first_name)))\n",
    "print(\"The last name is {} and its length is {}\".format(last_name,len(last_name)))"
   ]
  },
  {
   "cell_type": "code",
   "execution_count": 97,
   "metadata": {},
   "outputs": [
    {
     "name": "stdout",
     "output_type": "stream",
     "text": [
      "Enter the string: String\n",
      "The length of the string is 6\n",
      "Str\n",
      "ing\n"
     ]
    }
   ],
   "source": [
    "#12. WAP to input a string and split it into 2 halves. The string can be of any length\n",
    "a = input(\"Enter the string: \")\n",
    "a_len = int(len(a) / 2)\n",
    "print(f\"The length of the string is {len(a)}\")\n",
    "if len(a) % 2 == 0:\n",
    "    S1 = a[:a_len]\n",
    "    S2 = a[a_len:]\n",
    "else:\n",
    "    S1 = a[:a_len]\n",
    "    S2 = a[a_len + 1:]\n",
    "print(S1,S2,sep='\\n')"
   ]
  }
 ],
 "metadata": {
  "kernelspec": {
   "display_name": "Python 3",
   "language": "python",
   "name": "python3"
  },
  "language_info": {
   "codemirror_mode": {
    "name": "ipython",
    "version": 3
   },
   "file_extension": ".py",
   "mimetype": "text/x-python",
   "name": "python",
   "nbconvert_exporter": "python",
   "pygments_lexer": "ipython3",
   "version": "3.8.3"
  }
 },
 "nbformat": 4,
 "nbformat_minor": 4
}
