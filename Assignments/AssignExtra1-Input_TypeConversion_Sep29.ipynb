{
 "cells": [
  {
   "cell_type": "code",
   "execution_count": 12,
   "metadata": {},
   "outputs": [
    {
     "name": "stdout",
     "output_type": "stream",
     "text": [
      "Enter the temperature in Farenheit: 100\n",
      "The temperature in Celsius is:  37.77777777777778\n"
     ]
    }
   ],
   "source": [
    "#1. Convert Temperature from Farenheit to Celsius\n",
    "a = float(input(\"Enter the temperature in Farenheit: \"))\n",
    "b = float((a-32)*(5/9))\n",
    "print(\"The temperature in Celsius is: \",b)"
   ]
  },
  {
   "cell_type": "code",
   "execution_count": 27,
   "metadata": {},
   "outputs": [
    {
     "name": "stdout",
     "output_type": "stream",
     "text": [
      "Enter the number: 100\n",
      "The square of the number is:  10000\n",
      "The cube of the number is:  1000000\n"
     ]
    }
   ],
   "source": [
    "#2. Write a program to input a number and print its square and cube.\n",
    "a = input(\"Enter the number: \")\n",
    "if a.isnumeric():\n",
    "    print(\"The square of the number is: \",pow(int(a),2))\n",
    "    print(\"The cube of the number is: \",pow(int(a),3))\n",
    "else:\n",
    "    print(\"The given value is not a number\")"
   ]
  },
  {
   "cell_type": "code",
   "execution_count": 30,
   "metadata": {},
   "outputs": [
    {
     "name": "stdout",
     "output_type": "stream",
     "text": [
      "Enter the first number: 10\n",
      "Enter the second number: 20\n",
      "The result is:  500\n"
     ]
    }
   ],
   "source": [
    "# 3. WAP to input a number n and a number m and print the result of following\n",
    "a = int(input(\"Enter the first number: \"))\n",
    "b = int(input(\"Enter the second number: \"))\n",
    "c = pow(a,2)+pow(b,2)\n",
    "print(\"The result is: \",c)"
   ]
  },
  {
   "cell_type": "code",
   "execution_count": 32,
   "metadata": {},
   "outputs": [
    {
     "name": "stdout",
     "output_type": "stream",
     "text": [
      "Enter the first number: 10\n",
      "Enter the second number: 2\n",
      "The result using the first method is:  100\n",
      "The result using the second method is:  100\n"
     ]
    }
   ],
   "source": [
    "#4. WAP to input a numbers M and N and print result of MN. (use both ** and pow)\n",
    "m = int(input(\"Enter the first number: \"))\n",
    "n = int(input(\"Enter the second number: \"))\n",
    "print(\"The result using the first method is: \",pow(m,n)) # First Method\n",
    "print(\"The result using the second method is: \",m**n) # Second Method"
   ]
  },
  {
   "cell_type": "code",
   "execution_count": 34,
   "metadata": {},
   "outputs": [
    {
     "name": "stdout",
     "output_type": "stream",
     "text": [
      "Enter the principal: 10000\n",
      "Enter the number of years: 2\n",
      "Enter the Rate of Interest in percent: 11.23\n",
      "The simple interest is:  2246.0\n"
     ]
    }
   ],
   "source": [
    "#5. Write a simple interest calculator\n",
    "P = float(input(\"Enter the principal: \"))\n",
    "n = float(input(\"Enter the number of years: \"))\n",
    "R = float(input(\"Enter the Rate of Interest in percent: \"))\n",
    "si = P*n*R/100\n",
    "print (\"The simple interest is: \",si)"
   ]
  },
  {
   "cell_type": "code",
   "execution_count": 47,
   "metadata": {},
   "outputs": [
    {
     "name": "stdout",
     "output_type": "stream",
     "text": [
      "Enter the principal: 500000\n",
      "Enter the number of years: 5\n",
      "Enter the Rate of Interest in percent: 10\n",
      "The amount is:  805255.0000000002\n",
      "The compounded interest is:  305255.00000000023\n"
     ]
    }
   ],
   "source": [
    "#6. Input Principal, Rate, Time and print Compound Interest and Amount. \n",
    "P = float(input(\"Enter the principal: \"))\n",
    "n = float(input(\"Enter the number of years: \"))\n",
    "R = float(input(\"Enter the Rate of Interest in percent: \"))\n",
    "Amt = P * pow((1+(R/100)),n)\n",
    "print(\"The amount is: \",Amt)\n",
    "print(\"The compounded interest is: \", Amt-P)"
   ]
  },
  {
   "cell_type": "code",
   "execution_count": 58,
   "metadata": {},
   "outputs": [
    {
     "name": "stdout",
     "output_type": "stream",
     "text": [
      "Enter the value of n: 10\n",
      "The sum of first 10 natural numbers is : 55\n"
     ]
    }
   ],
   "source": [
    "#7. WAP to print sum of first n natural numbers. (n needs to be taken as input). \n",
    "n = int(input(\"Enter the value of n: \"))\n",
    "sum = 0\n",
    "for i in range(1,n+1):\n",
    "    sum+=i\n",
    "print(\"The sum of first {n} natural numbers is :\".format(n=n),sum)"
   ]
  },
  {
   "cell_type": "code",
   "execution_count": 59,
   "metadata": {},
   "outputs": [
    {
     "name": "stdout",
     "output_type": "stream",
     "text": [
      "Enter the first number: 10\n",
      "Enter the second number: 20\n",
      "The original values are:  10 20\n",
      "The swapped values are:  20 10\n"
     ]
    }
   ],
   "source": [
    "#8. WAP to input 2 numbers and swap them. Normal Logic \n",
    "x = int(input(\"Enter the first number: \"))\n",
    "y = int(input(\"Enter the second number: \"))\n",
    "print(\"The original values are: \",x,y)\n",
    "temp = x\n",
    "x = y\n",
    "y = temp\n",
    "print(\"The swapped values are: \",x,y)"
   ]
  },
  {
   "cell_type": "code",
   "execution_count": 61,
   "metadata": {},
   "outputs": [
    {
     "name": "stdout",
     "output_type": "stream",
     "text": [
      "Enter the first number: 20\n",
      "Enter the second number: 30\n",
      "The original values are:  20 30\n",
      "The swapped values are:  30 20\n"
     ]
    }
   ],
   "source": [
    "#8. WAP to input 2 numbers and swap them. Pythonic way\n",
    "x = int(input(\"Enter the first number: \"))\n",
    "y = int(input(\"Enter the second number: \"))\n",
    "print(\"The original values are: \",x,y)\n",
    "x,y = y,x\n",
    "print(\"The swapped values are: \",x,y)"
   ]
  },
  {
   "cell_type": "code",
   "execution_count": 71,
   "metadata": {},
   "outputs": [
    {
     "name": "stdout",
     "output_type": "stream",
     "text": [
      "The ascii value of white space characters are as given below: \n",
      "\n",
      "32\n",
      "9\n",
      "10\n",
      "13\n",
      "11\n",
      "12\n"
     ]
    }
   ],
   "source": [
    "#9. WAP to print ascii value of all white-space characters present in python. \n",
    "import string\n",
    "i = 0\n",
    "print(\"The ascii value of white space characters are as given below: \\n\")\n",
    "for i in range(0,6):\n",
    "    print(ord(string.whitespace[i]))"
   ]
  },
  {
   "cell_type": "code",
   "execution_count": 76,
   "metadata": {},
   "outputs": [
    {
     "name": "stdout",
     "output_type": "stream",
     "text": [
      "Enter a character: 1\n",
      "The ascii value of the character is:  49\n"
     ]
    }
   ],
   "source": [
    "#10. Input a single character and print its ascii values.\n",
    "a = input(\"Enter a character: \")\n",
    "print(\"The ascii value of the character is: \",ord(a))"
   ]
  },
  {
   "cell_type": "code",
   "execution_count": 83,
   "metadata": {},
   "outputs": [
    {
     "name": "stdout",
     "output_type": "stream",
     "text": [
      "Enter the area: 100\n",
      "The radius of the circle is:  5.641895835477563\n",
      "The circumference of the circle is:  35.449077018110316\n"
     ]
    }
   ],
   "source": [
    "#11. WAP that takes area of a circle and gives back the radius and circumference. \n",
    "import math\n",
    "Area = float(input(\"Enter the area: \"))\n",
    "Rad = math.sqrt(Area/math.pi)\n",
    "CCF = Rad * 2 * math.pi\n",
    "print (\"The radius of the circle is: \", Rad)\n",
    "print (\"The circumference of the circle is: \", CCF)"
   ]
  },
  {
   "cell_type": "code",
   "execution_count": 84,
   "metadata": {},
   "outputs": [
    {
     "name": "stdout",
     "output_type": "stream",
     "text": [
      "Enter the marks in the first subject: 80\n",
      "Enter the marks in the second subject: 85\n",
      "Enter the marks in the third subject: 90\n",
      "Enter the marks in the fourth subject: 92\n",
      "Enter the marks in the fifth subject: 90\n",
      "The percentage out of 100 is:  87.4\n"
     ]
    }
   ],
   "source": [
    "#12. We need to input marks in 5 subjects out of 100 and print percentage. \n",
    "a = int(input(\"Enter the marks in the first subject: \"))\n",
    "b = int(input(\"Enter the marks in the second subject: \"))\n",
    "c = int(input(\"Enter the marks in the third subject: \"))\n",
    "d = int(input(\"Enter the marks in the fourth subject: \"))\n",
    "e = int(input(\"Enter the marks in the fifth subject: \"))\n",
    "Sum = a+b+c+d+e\n",
    "print (\"The percentage out of 100 is: \",float(Sum/5))"
   ]
  }
 ],
 "metadata": {
  "kernelspec": {
   "display_name": "Python 3",
   "language": "python",
   "name": "python3"
  },
  "language_info": {
   "codemirror_mode": {
    "name": "ipython",
    "version": 3
   },
   "file_extension": ".py",
   "mimetype": "text/x-python",
   "name": "python",
   "nbconvert_exporter": "python",
   "pygments_lexer": "ipython3",
   "version": "3.8.3"
  }
 },
 "nbformat": 4,
 "nbformat_minor": 4
}
